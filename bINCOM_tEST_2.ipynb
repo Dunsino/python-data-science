{
  "cells": [
    {
      "cell_type": "markdown",
      "metadata": {
        "id": "view-in-github",
        "colab_type": "text"
      },
      "source": [
        "<a href=\"https://colab.research.google.com/github/Dunsino/python-data-science/blob/master/bINCOM_tEST_2.ipynb\" target=\"_parent\"><img src=\"https://colab.research.google.com/assets/colab-badge.svg\" alt=\"Open In Colab\"/></a>"
      ]
    },
    {
      "cell_type": "markdown",
      "source": [],
      "metadata": {
        "id": "95F5ZXbye9gJ"
      }
    },
    {
      "cell_type": "code",
      "source": [
        "import sqlite3\n",
        "\n",
        "# Connect to the database\n",
        "conn = sqlite3.connect(\"bincom_test.sqlite3\")\n",
        "\n",
        "# Create a cursor\n",
        "cur = conn.cursor()\n",
        "\n",
        "# Get the results for the polling unit with ID 8\n",
        "cur.execute(\"SELECT * FROM announced_pu_results WHERE polling_unit_uniqueid = 8\")\n",
        "\n",
        "# Get the results\n",
        "results = cur.fetchall()\n",
        "\n",
        "# Print the results\n",
        "for result in results:\n",
        "    print(result)\n",
        "\n",
        "# Close the connection\n",
        "conn.close()"
      ],
      "outputs": [],
      "execution_count": null,
      "metadata": {
        "id": "oXk9iwA1e9gN"
      }
    }
  ],
  "metadata": {
    "colab": {
      "provenance": [],
      "include_colab_link": true
    },
    "kernelspec": {
      "display_name": "Python 3",
      "name": "python3"
    }
  },
  "nbformat": 4,
  "nbformat_minor": 0
}